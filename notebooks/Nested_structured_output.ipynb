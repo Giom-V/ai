{
  "cells": [
    {
      "cell_type": "markdown",
      "metadata": {
        "id": "NtVOlmDSHmh4"
      },
      "source": [
        "##### Copyright 2024 Google LLC."
      ]
    },
    {
      "cell_type": "code",
      "execution_count": null,
      "metadata": {
        "cellView": "form",
        "id": "9r9Ggw012g9c"
      },
      "outputs": [],
      "source": [
        "# @title Licensed under the Apache License, Version 2.0 (the \"License\");\n",
        "#\n",
        "# Licensed under the Apache License, Version 2.0 (the \"License\");\n",
        "# you may not use this file except in compliance with the License.\n",
        "# You may obtain a copy of the License at\n",
        "#\n",
        "#     https://www.apache.org/licenses/LICENSE-2.0\n",
        "#\n",
        "# Unless required by applicable law or agreed to in writing, software\n",
        "# distributed under the License is distributed on an \"AS IS\" BASIS,\n",
        "# WITHOUT WARRANTIES OR CONDITIONS OF ANY KIND, either express or implied.\n",
        "# See the License for the specific language governing permissions and\n",
        "# limitations under the License."
      ]
    },
    {
      "cell_type": "markdown",
      "metadata": {
        "id": "eVmFDcYOSNiV"
      },
      "source": [
        "# Gemini API: Structured Output\n",
        "\n",
        "<a target=\"_blank\" href=\"https://colab.research.google.com/github/Giom-V/ai/blob/main/notebooks/Nested_structured_output.ipynb\">\n",
        "  <img src=\"https://colab.research.google.com/assets/colab-badge.svg\" alt=\"Open In Colab\" height=40/>\n",
        "</a>\n"
      ]
    },
    {
      "cell_type": "markdown",
      "metadata": {
        "id": "Mfk6YY3G5kqp"
      },
      "source": [
        "## Setup"
      ]
    },
    {
      "cell_type": "markdown",
      "metadata": {
        "id": "d5027929de8f"
      },
      "source": [
        "### Install SDK\n",
        "\n",
        "Install the SDK from [PyPI](https://github.com/googleapis/python-genai)."
      ]
    },
    {
      "cell_type": "code",
      "execution_count": null,
      "metadata": {
        "id": "46zEFO2a9FFd",
        "outputId": "9f1a473e-76eb-4c91-b8ce-8d88e4ca575b",
        "colab": {
          "base_uri": "https://localhost:8080/"
        }
      },
      "outputs": [
        {
          "output_type": "stream",
          "name": "stdout",
          "text": [
            "\u001b[?25l   \u001b[90m━━━━━━━━━━━━━━━━━━━━━━━━━━━━━━━━━━━━━━━━\u001b[0m \u001b[32m0.0/130.7 kB\u001b[0m \u001b[31m?\u001b[0m eta \u001b[36m-:--:--\u001b[0m\r\u001b[2K   \u001b[91m━━━━━━━━━━━━━━━━━━━━━━━━━━━━━━━━━━━━━\u001b[0m\u001b[91m╸\u001b[0m\u001b[90m━━\u001b[0m \u001b[32m122.9/130.7 kB\u001b[0m \u001b[31m14.7 MB/s\u001b[0m eta \u001b[36m0:00:01\u001b[0m\r\u001b[2K   \u001b[90m━━━━━━━━━━━━━━━━━━━━━━━━━━━━━━━━━━━━━━━━\u001b[0m \u001b[32m130.7/130.7 kB\u001b[0m \u001b[31m3.3 MB/s\u001b[0m eta \u001b[36m0:00:00\u001b[0m\n",
            "\u001b[?25h"
          ]
        }
      ],
      "source": [
        "%pip install -U -q 'google-genai'"
      ]
    },
    {
      "cell_type": "markdown",
      "metadata": {
        "id": "CTIfnvCn9HvH"
      },
      "source": [
        "### Setup your API key\n",
        "\n",
        "To run the following cell, your API key must be stored it in a Colab Secret named `GOOGLE_API_KEY`. If you don't already have an API key, or you're not sure how to create a Colab Secret, see [Authentication](../quickstarts/Authentication.ipynb) for an example."
      ]
    },
    {
      "cell_type": "code",
      "execution_count": null,
      "metadata": {
        "id": "A1pkoyZb9Jm3"
      },
      "outputs": [],
      "source": [
        "from google.colab import userdata\n",
        "\n",
        "GOOGLE_API_KEY=userdata.get('GOOGLE_API_KEY')"
      ]
    },
    {
      "cell_type": "markdown",
      "metadata": {
        "id": "3Hx_Gw9i0Yuv"
      },
      "source": [
        "### Initialize SDK client\n",
        "\n",
        "With the new SDK you now only need to initialize a client with you API key (or OAuth if using [Vertex AI](https://cloud.google.com/vertex-ai)). The model is now set in each call."
      ]
    },
    {
      "cell_type": "code",
      "execution_count": null,
      "metadata": {
        "id": "HghvVpbU0Uap"
      },
      "outputs": [],
      "source": [
        "from google import genai\n",
        "from google.genai import types\n",
        "\n",
        "client = genai.Client(api_key=GOOGLE_API_KEY)"
      ]
    },
    {
      "cell_type": "markdown",
      "metadata": {
        "id": "MvA_mbi1JxD5"
      },
      "source": [
        "### Choose a model\n",
        "\n",
        "This notebook will teach you how to use the [Gemini 2.0](https://ai.google.dev/gemini-api/docs/models/gemini-v2) model with the GenAI SDK. But the SDK also work with the 1.5 generation of models.\n",
        "\n",
        "For more information about all Gemini models, check the [documentation](https://ai.google.dev/gemini-api/docs/models/gemini) for extended information on each of them."
      ]
    },
    {
      "cell_type": "code",
      "execution_count": null,
      "metadata": {
        "id": "AChpZWIXu62m"
      },
      "outputs": [],
      "source": [
        "MODEL_ID = \"gemini-2.0-flash\" # @param [\"gemini-1.5-flash-latest\",\"gemini-2.0-flash-lite-preview-02-05\",\"gemini-2.0-flash\",\"gemini-2.0-pro-exp-02-05\"] {\"allow-input\":true, isTemplate: true}"
      ]
    },
    {
      "cell_type": "markdown",
      "metadata": {
        "id": "i6xeZma9wGjK"
      },
      "source": [
        "## Generate JSON\n",
        "\n",
        "The [controlled generation](https://ai.google.dev/gemini-api/docs/structured-output?lang=python#generate-json) capability in Gemini API allows you to constraint the model output to a structured format. You can provide the schemas as Pydantic Models or a JSON string."
      ]
    },
    {
      "cell_type": "code",
      "execution_count": null,
      "metadata": {
        "outputId": "b69f17ac-0a93-4899-deb1-ad45e464182d",
        "colab": {
          "base_uri": "https://localhost:8080/",
          "height": 1000
        },
        "id": "4AaYn03qwGjM"
      },
      "outputs": [
        {
          "output_type": "display_data",
          "data": {
            "text/plain": [
              "<IPython.core.display.Markdown object>"
            ],
            "text/markdown": "### Recipe:"
          },
          "metadata": {}
        },
        {
          "output_type": "stream",
          "name": "stdout",
          "text": [
            "{\n",
            "    \"recipe_description\": \"Classic, soft and chewy chocolate chip cookies.\",\n",
            "    \"recipe_ingredients\": [\n",
            "        \"1 cup (2 sticks) unsalted butter, softened\",\n",
            "        \"3/4 cup granulated sugar\",\n",
            "        \"3/4 cup packed brown sugar\",\n",
            "        \"1 teaspoon vanilla extract\",\n",
            "        \"2 large eggs\",\n",
            "        \"2 1/4 cups all-purpose flour\",\n",
            "        \"1 teaspoon baking soda\",\n",
            "        \"1 teaspoon salt\",\n",
            "        \"2 cups chocolate chips\"\n",
            "    ],\n",
            "    \"recipe_name\": \"Chocolate Chip Cookies\"\n",
            "}\n"
          ]
        },
        {
          "output_type": "display_data",
          "data": {
            "text/plain": [
              "<IPython.core.display.Markdown object>"
            ],
            "text/markdown": "### Book:"
          },
          "metadata": {}
        },
        {
          "output_type": "stream",
          "name": "stdout",
          "text": [
            "{\n",
            "    \"cookbook_description\": \"A delightful collection of cookie recipes, from classic favorites to innovative creations, guaranteed to satisfy any sweet tooth.\",\n",
            "    \"cookbook_name\": \"Cookie Crumbles: A Sweet Journey\",\n",
            "    \"cookbook_recipes\": [\n",
            "        {\n",
            "            \"recipe_description\": \"The quintessential cookie, perfect for any occasion. Soft, chewy, and loaded with chocolate chips.\",\n",
            "            \"recipe_ingredients\": [\n",
            "                \"1 cup (2 sticks) unsalted butter, softened\",\n",
            "                \"3/4 cup granulated sugar\",\n",
            "                \"3/4 cup packed brown sugar\",\n",
            "                \"2 large eggs\",\n",
            "                \"1 teaspoon vanilla extract\",\n",
            "                \"2 1/4 cups all-purpose flour\",\n",
            "                \"1 teaspoon baking soda\",\n",
            "                \"1 teaspoon salt\",\n",
            "                \"2 cups chocolate chips\"\n",
            "            ],\n",
            "            \"recipe_name\": \"Classic Chocolate Chip Cookies\"\n",
            "        },\n",
            "        {\n",
            "            \"recipe_description\": \"Soft and chewy peanut butter cookies topped with a milk chocolate kiss. A festive and delicious treat.\",\n",
            "            \"recipe_ingredients\": [\n",
            "                \"1/2 cup (1 stick) unsalted butter, softened\",\n",
            "                \"3/4 cup peanut butter\",\n",
            "                \"1/2 cup granulated sugar\",\n",
            "                \"1/2 cup packed brown sugar\",\n",
            "                \"1 large egg\",\n",
            "                \"1 teaspoon vanilla extract\",\n",
            "                \"1 3/4 cups all-purpose flour\",\n",
            "                \"1 teaspoon baking soda\",\n",
            "                \"1/2 teaspoon salt\",\n",
            "                \"Milk chocolate kisses, unwrapped\"\n",
            "            ],\n",
            "            \"recipe_name\": \"Peanut Butter Blossoms\"\n",
            "        },\n",
            "        {\n",
            "            \"recipe_description\": \"A hearty and wholesome cookie with a hint of cinnamon and chewy raisins.\",\n",
            "            \"recipe_ingredients\": [\n",
            "                \"1 cup (2 sticks) unsalted butter, softened\",\n",
            "                \"3/4 cup granulated sugar\",\n",
            "                \"3/4 cup packed brown sugar\",\n",
            "                \"2 large eggs\",\n",
            "                \"1 teaspoon vanilla extract\",\n",
            "                \"1 1/2 cups all-purpose flour\",\n",
            "                \"1 teaspoon baking soda\",\n",
            "                \"1 teaspoon cinnamon\",\n",
            "                \"1/2 teaspoon salt\",\n",
            "                \"3 cups rolled oats\",\n",
            "                \"1 cup raisins\"\n",
            "            ],\n",
            "            \"recipe_name\": \"Oatmeal Raisin Cookies\"\n",
            "        },\n",
            "        {\n",
            "            \"recipe_description\": \"Soft and tangy cookies coated in cinnamon sugar. A simple yet satisfying treat.\",\n",
            "            \"recipe_ingredients\": [\n",
            "                \"1 cup (2 sticks) unsalted butter, softened\",\n",
            "                \"1 1/2 cups granulated sugar\",\n",
            "                \"2 large eggs\",\n",
            "                \"2 3/4 cups all-purpose flour\",\n",
            "                \"2 teaspoons cream of tartar\",\n",
            "                \"1 teaspoon baking soda\",\n",
            "                \"1/4 teaspoon salt\",\n",
            "                \"2 tablespoons granulated sugar\",\n",
            "                \"2 teaspoons cinnamon\"\n",
            "            ],\n",
            "            \"recipe_name\": \"Snickerdoodles\"\n",
            "        },\n",
            "        {\n",
            "            \"recipe_description\": \"A versatile cookie that can be decorated for any holiday or occasion. Crisp edges and a soft center.\",\n",
            "            \"recipe_ingredients\": [\n",
            "                \"1 cup (2 sticks) unsalted butter, softened\",\n",
            "                \"1 1/2 cups granulated sugar\",\n",
            "                \"2 large eggs\",\n",
            "                \"1 teaspoon vanilla extract\",\n",
            "                \"3 cups all-purpose flour\",\n",
            "                \"1 teaspoon baking powder\",\n",
            "                \"1/2 teaspoon salt\"\n",
            "            ],\n",
            "            \"recipe_name\": \"Sugar Cookies\"\n",
            "        },\n",
            "        {\n",
            "            \"recipe_description\": \"Rich and decadent cookies with both cocoa powder and chocolate chips. Perfect for chocolate lovers.\",\n",
            "            \"recipe_ingredients\": [\n",
            "                \"1 cup (2 sticks) unsalted butter, softened\",\n",
            "                \"1 cup granulated sugar\",\n",
            "                \"1 cup packed brown sugar\",\n",
            "                \"2 large eggs\",\n",
            "                \"1 teaspoon vanilla extract\",\n",
            "                \"2 cups all-purpose flour\",\n",
            "                \"3/4 cup unsweetened cocoa powder\",\n",
            "                \"1 teaspoon baking soda\",\n",
            "                \"1/2 teaspoon salt\",\n",
            "                \"2 cups chocolate chips\"\n",
            "            ],\n",
            "            \"recipe_name\": \"Double Chocolate Cookies\"\n",
            "        },\n",
            "        {\n",
            "            \"recipe_description\": \"Spiced and fragrant cookies perfect for the holidays. Can be decorated with icing and candies.\",\n",
            "            \"recipe_ingredients\": [\n",
            "                \"1/2 cup (1 stick) unsalted butter, softened\",\n",
            "                \"1/2 cup packed brown sugar\",\n",
            "                \"1/2 cup molasses\",\n",
            "                \"1 large egg\",\n",
            "                \"2 1/4 cups all-purpose flour\",\n",
            "                \"1 teaspoon baking soda\",\n",
            "                \"1 teaspoon ground ginger\",\n",
            "                \"1 teaspoon cinnamon\",\n",
            "                \"1/2 teaspoon ground cloves\",\n",
            "                \"1/4 teaspoon salt\"\n",
            "            ],\n",
            "            \"recipe_name\": \"Gingerbread Cookies\"\n",
            "        },\n",
            "        {\n",
            "            \"recipe_description\": \"Bright and zesty cookies with a powdered sugar coating. A refreshing and delightful treat.\",\n",
            "            \"recipe_ingredients\": [\n",
            "                \"1 cup (2 sticks) unsalted butter, softened\",\n",
            "                \"1 1/2 cups granulated sugar\",\n",
            "                \"2 large eggs\",\n",
            "                \"1/4 cup lemon juice\",\n",
            "                \"2 teaspoons lemon zest\",\n",
            "                \"2 3/4 cups all-purpose flour\",\n",
            "                \"2 teaspoons baking powder\",\n",
            "                \"1/4 teaspoon salt\",\n",
            "                \"Powdered sugar, for coating\"\n",
            "            ],\n",
            "            \"recipe_name\": \"Lemon Crinkle Cookies\"\n",
            "        },\n",
            "        {\n",
            "            \"recipe_description\": \"A luxurious cookie with creamy white chocolate and crunchy macadamia nuts.\",\n",
            "            \"recipe_ingredients\": [\n",
            "                \"1 cup (2 sticks) unsalted butter, softened\",\n",
            "                \"3/4 cup granulated sugar\",\n",
            "                \"3/4 cup packed brown sugar\",\n",
            "                \"2 large eggs\",\n",
            "                \"1 teaspoon vanilla extract\",\n",
            "                \"2 1/4 cups all-purpose flour\",\n",
            "                \"1 teaspoon baking soda\",\n",
            "                \"1 teaspoon salt\",\n",
            "                \"1 cup white chocolate chips\",\n",
            "                \"1 cup macadamia nuts, chopped\"\n",
            "            ],\n",
            "            \"recipe_name\": \"White Chocolate Macadamia Nut Cookies\"\n",
            "        },\n",
            "        {\n",
            "            \"recipe_description\": \"The perfect combination of peanut butter and chocolate in a chewy cookie.\",\n",
            "            \"recipe_ingredients\": [\n",
            "                \"1/2 cup (1 stick) unsalted butter, softened\",\n",
            "                \"3/4 cup peanut butter\",\n",
            "                \"1/2 cup granulated sugar\",\n",
            "                \"1/2 cup packed brown sugar\",\n",
            "                \"1 large egg\",\n",
            "                \"1 teaspoon vanilla extract\",\n",
            "                \"1 3/4 cups all-purpose flour\",\n",
            "                \"1 teaspoon baking soda\",\n",
            "                \"1/2 teaspoon salt\",\n",
            "                \"1 cup chocolate chips\"\n",
            "            ],\n",
            "            \"recipe_name\": \"Peanut Butter Chocolate Chip Cookies\"\n",
            "        }\n",
            "    ]\n",
            "}\n"
          ]
        },
        {
          "output_type": "display_data",
          "data": {
            "text/plain": [
              "<IPython.core.display.Markdown object>"
            ],
            "text/markdown": "### Library:"
          },
          "metadata": {}
        },
        {
          "output_type": "stream",
          "name": "stdout",
          "text": [
            "{\n",
            "    \"library_cookbooks\": [\n",
            "        {\n",
            "            \"cookbook_description\": \"A comprehensive guide to baking perfect cookies of all kinds.\",\n",
            "            \"cookbook_name\": \"Cookie Creations\",\n",
            "            \"cookbook_recipes\": [\n",
            "                {\n",
            "                    \"recipe_description\": \"The ultimate recipe for soft and chewy chocolate chip cookies.\",\n",
            "                    \"recipe_ingredients\": [\n",
            "                        \"Flour\",\n",
            "                        \"Butter\",\n",
            "                        \"Sugar\",\n",
            "                        \"Eggs\",\n",
            "                        \"Chocolate Chips\",\n",
            "                        \"Vanilla Extract\"\n",
            "                    ],\n",
            "                    \"recipe_name\": \"Chocolate Chip Classics\"\n",
            "                },\n",
            "                {\n",
            "                    \"recipe_description\": \"Delicious peanut butter cookies with a perfect balance of sweet and salty.\",\n",
            "                    \"recipe_ingredients\": [\n",
            "                        \"Flour\",\n",
            "                        \"Butter\",\n",
            "                        \"Peanut Butter\",\n",
            "                        \"Sugar\",\n",
            "                        \"Eggs\",\n",
            "                        \"Baking Soda\"\n",
            "                    ],\n",
            "                    \"recipe_name\": \"Peanut Butter Bliss\"\n",
            "                }\n",
            "            ]\n",
            "        },\n",
            "        {\n",
            "            \"cookbook_description\": \"Master the art of making delicate and colorful macarons.\",\n",
            "            \"cookbook_name\": \"Macaron Magic\",\n",
            "            \"cookbook_recipes\": [\n",
            "                {\n",
            "                    \"recipe_description\": \"Classic vanilla macarons with a smooth and creamy vanilla bean filling.\",\n",
            "                    \"recipe_ingredients\": [\n",
            "                        \"Almond Flour\",\n",
            "                        \"Icing Sugar\",\n",
            "                        \"Egg Whites\",\n",
            "                        \"Granulated Sugar\",\n",
            "                        \"Vanilla Bean Paste\",\n",
            "                        \"Butter\",\n",
            "                        \"Cream\"\n",
            "                    ],\n",
            "                    \"recipe_name\": \"Vanilla Bean Macarons\"\n",
            "                },\n",
            "                {\n",
            "                    \"recipe_description\": \"Elegant raspberry rose macarons with a fragrant rose buttercream.\",\n",
            "                    \"recipe_ingredients\": [\n",
            "                        \"Almond Flour\",\n",
            "                        \"Icing Sugar\",\n",
            "                        \"Egg Whites\",\n",
            "                        \"Granulated Sugar\",\n",
            "                        \"Raspberry Puree\",\n",
            "                        \"Rose Water\",\n",
            "                        \"Butter\",\n",
            "                        \"Cream\"\n",
            "                    ],\n",
            "                    \"recipe_name\": \"Raspberry Rose Macarons\"\n",
            "                }\n",
            "            ]\n",
            "        },\n",
            "        {\n",
            "            \"cookbook_description\": \"Explore the world of cr\\u00e8me br\\u00fbl\\u00e9e with unique and decadent variations.\",\n",
            "            \"cookbook_name\": \"Cr\\u00e8me Br\\u00fbl\\u00e9e Dreams\",\n",
            "            \"cookbook_recipes\": [\n",
            "                {\n",
            "                    \"recipe_description\": \"The timeless recipe for creamy custard with a crisp caramelized sugar topping.\",\n",
            "                    \"recipe_ingredients\": [\n",
            "                        \"Heavy Cream\",\n",
            "                        \"Egg Yolks\",\n",
            "                        \"Sugar\",\n",
            "                        \"Vanilla Extract\"\n",
            "                    ],\n",
            "                    \"recipe_name\": \"Classic Cr\\u00e8me Br\\u00fbl\\u00e9e\"\n",
            "                },\n",
            "                {\n",
            "                    \"recipe_description\": \"Aromatic lavender honey cr\\u00e8me br\\u00fbl\\u00e9e for a touch of floral sweetness.\",\n",
            "                    \"recipe_ingredients\": [\n",
            "                        \"Heavy Cream\",\n",
            "                        \"Egg Yolks\",\n",
            "                        \"Sugar\",\n",
            "                        \"Honey\",\n",
            "                        \"Lavender Buds\"\n",
            "                    ],\n",
            "                    \"recipe_name\": \"Lavender Honey Cr\\u00e8me Br\\u00fbl\\u00e9e\"\n",
            "                }\n",
            "            ]\n",
            "        }\n",
            "    ],\n",
            "    \"library_description\": \"A collection of cookbooks dedicated to cookies, macarons, and cr\\u00e8me br\\u00fbl\\u00e9es.\",\n",
            "    \"library_name\": \"Sweet Delights\"\n",
            "}\n"
          ]
        }
      ],
      "source": [
        "from pydantic import BaseModel\n",
        "from IPython.display import display, Markdown\n",
        "from IPython.display import JSON\n",
        "import json\n",
        "\n",
        "class Recipe(BaseModel):\n",
        "    recipe_name: str\n",
        "    recipe_description: str\n",
        "    recipe_ingredients: list[str]\n",
        "\n",
        "class Cookbook(BaseModel):\n",
        "    cookbook_name: str\n",
        "    cookbook_description: str\n",
        "    cookbook_recipes: list[Recipe]\n",
        "\n",
        "class Library(BaseModel):\n",
        "    library_name: str\n",
        "    library_description: str\n",
        "    library_cookbooks: list[Cookbook]\n",
        "\n",
        "response = client.models.generate_content(\n",
        "    model=MODEL_ID,\n",
        "    contents=\"Provide a popular cookie recipe and its ingredients.\",\n",
        "    config=types.GenerateContentConfig(\n",
        "        response_mime_type=\"application/json\",\n",
        "        response_schema=Recipe,\n",
        "    ),\n",
        ")\n",
        "\n",
        "display(Markdown(\"### Recipe:\"))\n",
        "print(json.dumps(json.loads(response.text), indent=4, sort_keys=True))\n",
        "\n",
        "response = client.models.generate_content(\n",
        "    model=MODEL_ID,\n",
        "    contents=\"Create a cookbook about cookies with at least 10 recipes.\",\n",
        "    config=types.GenerateContentConfig(\n",
        "        response_mime_type=\"application/json\",\n",
        "        response_schema=Cookbook,\n",
        "    ),\n",
        ")\n",
        "\n",
        "display(Markdown(\"### Book:\"))\n",
        "print(json.dumps(json.loads(response.text), indent=4, sort_keys=True))\n",
        "\n",
        "\n",
        "\n",
        "response = client.models.generate_content(\n",
        "    model=MODEL_ID,\n",
        "    contents=\"Create library with cooking books about cookies, macarons and crème brulées.\",\n",
        "    config=types.GenerateContentConfig(\n",
        "        response_mime_type=\"application/json\",\n",
        "        response_schema=Library,\n",
        "    ),\n",
        ")\n",
        "\n",
        "display(Markdown(\"### Library:\"))\n",
        "print(json.dumps(json.loads(response.text), indent=4, sort_keys=True))\n",
        "\n"
      ]
    }
  ],
  "metadata": {
    "colab": {
      "toc_visible": true,
      "provenance": []
    },
    "kernelspec": {
      "display_name": "Python 3",
      "name": "python3"
    }
  },
  "nbformat": 4,
  "nbformat_minor": 0
}